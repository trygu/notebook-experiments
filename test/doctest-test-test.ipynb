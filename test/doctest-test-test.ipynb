{
 "cells": [
  {
   "cell_type": "markdown",
   "id": "acba73e9",
   "metadata": {},
   "source": [
    "# Doctest\n",
    "\n",
    "Dette er et eksempel på bruk av innebygget funksjonalitet i Python for testing av funksjoner"
   ]
  },
  {
   "cell_type": "code",
   "execution_count": 31,
   "id": "04f05945",
   "metadata": {},
   "outputs": [],
   "source": [
    "def add(a, b):\n",
    "    \"\"\"\n",
    "    Legg sammen to tall.\n",
    "\n",
    "    :param a: int\n",
    "    :param b: int\n",
    "    :return: int\n",
    "\n",
    "    >>> add(32, 3)\n",
    "    35\n",
    "    >>> add(0, 0)\n",
    "    0\n",
    "    \"\"\"\n",
    "    return a + b\n",
    "    "
   ]
  },
  {
   "cell_type": "markdown",
   "id": "7c089e72",
   "metadata": {},
   "source": [
    "Dette kjører testen(e)"
   ]
  },
  {
   "cell_type": "code",
   "execution_count": 32,
   "id": "b16f4667",
   "metadata": {},
   "outputs": [
    {
     "data": {
      "text/plain": [
       "TestResults(failed=0, attempted=2)"
      ]
     },
     "execution_count": 32,
     "metadata": {},
     "output_type": "execute_result"
    }
   ],
   "source": [
    "doctest.testmod()"
   ]
  },
  {
   "cell_type": "markdown",
   "id": "5f0ad6f4",
   "metadata": {},
   "source": [
    "Her kjører vi funksjonen"
   ]
  },
  {
   "cell_type": "code",
   "execution_count": 33,
   "id": "022d4266",
   "metadata": {},
   "outputs": [
    {
     "name": "stdout",
     "output_type": "stream",
     "text": [
      "35\n"
     ]
    }
   ],
   "source": [
    "print( add(32,3) )"
   ]
  },
  {
   "cell_type": "code",
   "execution_count": null,
   "id": "4b148700",
   "metadata": {},
   "outputs": [],
   "source": []
  }
 ],
 "metadata": {
  "kernelspec": {
   "display_name": "Python 3",
   "language": "python",
   "name": "python3"
  },
  "language_info": {
   "codemirror_mode": {
    "name": "ipython",
    "version": 3
   },
   "file_extension": ".py",
   "mimetype": "text/x-python",
   "name": "python",
   "nbconvert_exporter": "python",
   "pygments_lexer": "ipython3",
   "version": "3.8.10"
  }
 },
 "nbformat": 4,
 "nbformat_minor": 5
}
