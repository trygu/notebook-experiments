{
 "cells": [
  {
   "cell_type": "markdown",
   "id": "7c5e3706",
   "metadata": {},
   "source": [
    "# Doctest\n",
    "\n",
    "Dette er et eksempel på bruk av innebygget funksjonalitet i Python for testing av funksjoner"
   ]
  },
  {
   "cell_type": "code",
   "execution_count": 2,
   "id": "b2e227d3",
   "metadata": {},
   "outputs": [],
   "source": [
    "import doctest\n",
    "def add(a, b):\n",
    "    \"\"\"\n",
    "    Legg sammen to tall.\n",
    "\n",
    "    :param a: int\n",
    "    :param b: int\n",
    "    :return: int\n",
    "\n",
    "    >>> add(32, 3)\n",
    "    35\n",
    "    >>> add(0, 0)\n",
    "    0\n",
    "    \"\"\"\n",
    "    return a + b\n",
    "    "
   ]
  },
  {
   "cell_type": "markdown",
   "id": "64d5fcce",
   "metadata": {},
   "source": [
    "Dette kjører testen(e)"
   ]
  },
  {
   "cell_type": "code",
   "execution_count": 3,
   "id": "b1d7c8d9",
   "metadata": {},
   "outputs": [
    {
     "data": {
      "text/plain": [
       "TestResults(failed=0, attempted=2)"
      ]
     },
     "execution_count": 3,
     "metadata": {},
     "output_type": "execute_result"
    }
   ],
   "source": [
    "doctest.testmod()"
   ]
  },
  {
   "cell_type": "markdown",
   "id": "c17b9881",
   "metadata": {},
   "source": [
    "Her kjører vi funksjonen"
   ]
  },
  {
   "cell_type": "code",
   "execution_count": 4,
   "id": "15d44548",
   "metadata": {},
   "outputs": [
    {
     "name": "stdout",
     "output_type": "stream",
     "text": [
      "35\n"
     ]
    }
   ],
   "source": [
    "print( add(32,3) )"
   ]
  },
  {
   "cell_type": "code",
   "execution_count": null,
   "id": "056674bd",
   "metadata": {},
   "outputs": [],
   "source": []
  }
 ],
 "metadata": {
  "kernelspec": {
   "display_name": "Python 3",
   "language": "python",
   "name": "python3"
  },
  "language_info": {
   "codemirror_mode": {
    "name": "ipython",
    "version": 3
   },
   "file_extension": ".py",
   "mimetype": "text/x-python",
   "name": "python",
   "nbconvert_exporter": "python",
   "pygments_lexer": "ipython3",
   "version": "3.8.10"
  }
 },
 "nbformat": 4,
 "nbformat_minor": 5
}
