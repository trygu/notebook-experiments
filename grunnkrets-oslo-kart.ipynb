{
 "cells": [
  {
   "cell_type": "markdown",
   "metadata": {},
   "source": [
    "# 2020 Befolkning i Oslo på grunnkrets"
   ]
  },
  {
   "cell_type": "code",
   "execution_count": 1,
   "metadata": {},
   "outputs": [],
   "source": [
    "import json\n",
    "import os\n",
    "import pandas as pd\n",
    "import requests\n",
    "import numpy as np\n",
    "import ipyleaflet\n",
    "\n",
    "from branca.colormap import linear\n",
    "from pyjstat import pyjstat\n",
    "\n",
    "from ipyleaflet import (\n",
    "    Map,\n",
    "    Marker,\n",
    "    TileLayer, ImageOverlay,\n",
    "    Polyline, Polygon, Rectangle, Circle, CircleMarker,\n",
    "    GeoJSON,\n",
    "    DrawControl\n",
    ")"
   ]
  },
  {
   "cell_type": "markdown",
   "metadata": {},
   "source": [
    "Vi heter opp en GeoJSON-fil med polygoner for alle grunnkretsene i Oslo"
   ]
  },
  {
   "cell_type": "code",
   "execution_count": 2,
   "metadata": {},
   "outputs": [],
   "source": [
    "geodata = json.load(open('data/oslo-grunnkrets.json'))"
   ]
  },
  {
   "cell_type": "markdown",
   "metadata": {},
   "source": [
    "Vi henter opp spørringen mot Statistikkbanken. "
   ]
  },
  {
   "cell_type": "code",
   "execution_count": 3,
   "metadata": {},
   "outputs": [],
   "source": [
    "query = json.load(open('data/befolkning-query.json'))"
   ]
  },
  {
   "cell_type": "markdown",
   "metadata": {},
   "source": [
    "Spørringen og endepunktet til API-et kan hentes fra Statistikkbanken."
   ]
  },
  {
   "cell_type": "code",
   "execution_count": 4,
   "metadata": {},
   "outputs": [],
   "source": [
    "res = requests.post(\"https://data.ssb.no/api/v0/no/table/04317/\", json=query)"
   ]
  },
  {
   "cell_type": "code",
   "execution_count": 5,
   "metadata": {},
   "outputs": [],
   "source": [
    "ds = pyjstat.Dataset.read(res.text)\n",
    "befolkning = ds.write('dataframe', naming='id')"
   ]
  },
  {
   "cell_type": "markdown",
   "metadata": {},
   "source": [
    "Vi fjerner \"NaN\" fra datasettet og erstatter med \"0\". Dette er ikke helt riktig, siden disse er fjernet av konfedensialitetshensyn. I tillegg liker ikke Cloropleth-rutinen verdier som ikke er numeriske. Vi printer også ut datastrukturen slik at vi vet hvordan data ser ut."
   ]
  },
  {
   "cell_type": "code",
   "execution_count": 6,
   "metadata": {},
   "outputs": [
    {
     "data": {
      "text/html": [
       "<div>\n",
       "<style scoped>\n",
       "    .dataframe tbody tr th:only-of-type {\n",
       "        vertical-align: middle;\n",
       "    }\n",
       "\n",
       "    .dataframe tbody tr th {\n",
       "        vertical-align: top;\n",
       "    }\n",
       "\n",
       "    .dataframe thead th {\n",
       "        text-align: right;\n",
       "    }\n",
       "</style>\n",
       "<table border=\"1\" class=\"dataframe\">\n",
       "  <thead>\n",
       "    <tr style=\"text-align: right;\">\n",
       "      <th></th>\n",
       "      <th>Grunnkretser</th>\n",
       "      <th>ContentsCode</th>\n",
       "      <th>Tid</th>\n",
       "      <th>value</th>\n",
       "    </tr>\n",
       "  </thead>\n",
       "  <tbody>\n",
       "    <tr>\n",
       "      <th>0</th>\n",
       "      <td>03010101</td>\n",
       "      <td>Personer1</td>\n",
       "      <td>2020</td>\n",
       "      <td>4.0</td>\n",
       "    </tr>\n",
       "    <tr>\n",
       "      <th>1</th>\n",
       "      <td>03010102</td>\n",
       "      <td>Personer1</td>\n",
       "      <td>2020</td>\n",
       "      <td>309.0</td>\n",
       "    </tr>\n",
       "    <tr>\n",
       "      <th>2</th>\n",
       "      <td>03010103</td>\n",
       "      <td>Personer1</td>\n",
       "      <td>2020</td>\n",
       "      <td>33.0</td>\n",
       "    </tr>\n",
       "    <tr>\n",
       "      <th>3</th>\n",
       "      <td>03010104</td>\n",
       "      <td>Personer1</td>\n",
       "      <td>2020</td>\n",
       "      <td>413.0</td>\n",
       "    </tr>\n",
       "    <tr>\n",
       "      <th>4</th>\n",
       "      <td>03010105</td>\n",
       "      <td>Personer1</td>\n",
       "      <td>2020</td>\n",
       "      <td>502.0</td>\n",
       "    </tr>\n",
       "    <tr>\n",
       "      <th>...</th>\n",
       "      <td>...</td>\n",
       "      <td>...</td>\n",
       "      <td>...</td>\n",
       "      <td>...</td>\n",
       "    </tr>\n",
       "    <tr>\n",
       "      <th>586</th>\n",
       "      <td>03016003</td>\n",
       "      <td>Personer1</td>\n",
       "      <td>2020</td>\n",
       "      <td>3.0</td>\n",
       "    </tr>\n",
       "    <tr>\n",
       "      <th>587</th>\n",
       "      <td>03016004</td>\n",
       "      <td>Personer1</td>\n",
       "      <td>2020</td>\n",
       "      <td>17.0</td>\n",
       "    </tr>\n",
       "    <tr>\n",
       "      <th>588</th>\n",
       "      <td>03016005</td>\n",
       "      <td>Personer1</td>\n",
       "      <td>2020</td>\n",
       "      <td>16.0</td>\n",
       "    </tr>\n",
       "    <tr>\n",
       "      <th>589</th>\n",
       "      <td>03016006</td>\n",
       "      <td>Personer1</td>\n",
       "      <td>2020</td>\n",
       "      <td>2.0</td>\n",
       "    </tr>\n",
       "    <tr>\n",
       "      <th>590</th>\n",
       "      <td>03016007</td>\n",
       "      <td>Personer1</td>\n",
       "      <td>2020</td>\n",
       "      <td>347.0</td>\n",
       "    </tr>\n",
       "  </tbody>\n",
       "</table>\n",
       "<p>591 rows × 4 columns</p>\n",
       "</div>"
      ],
      "text/plain": [
       "    Grunnkretser ContentsCode   Tid  value\n",
       "0       03010101    Personer1  2020    4.0\n",
       "1       03010102    Personer1  2020  309.0\n",
       "2       03010103    Personer1  2020   33.0\n",
       "3       03010104    Personer1  2020  413.0\n",
       "4       03010105    Personer1  2020  502.0\n",
       "..           ...          ...   ...    ...\n",
       "586     03016003    Personer1  2020    3.0\n",
       "587     03016004    Personer1  2020   17.0\n",
       "588     03016005    Personer1  2020   16.0\n",
       "589     03016006    Personer1  2020    2.0\n",
       "590     03016007    Personer1  2020  347.0\n",
       "\n",
       "[591 rows x 4 columns]"
      ]
     },
     "execution_count": 6,
     "metadata": {},
     "output_type": "execute_result"
    }
   ],
   "source": [
    "befolkning.replace(np.NaN, 0, inplace=True)\n",
    "befolkning"
   ]
  },
  {
   "cell_type": "markdown",
   "metadata": {},
   "source": [
    "Vi bygger opp en mapping mellom grunnkrets-id'ene og verdiene. Disse brukes av Chropleth-rutinen som lager fargekartet. Her går det også an å velge andre basemaps om det er ønskelig. En utfordring med iPyleaflet sin Choropleth-rutine er at den forutsetter at ID-en som verdien skal mappes mot, ligger på feature-nivå i GeoJSON-fila. Dette er ikke alltid tilfellet og krever litt jobbing med kartgrunnlaget."
   ]
  },
  {
   "cell_type": "code",
   "execution_count": 7,
   "metadata": {},
   "outputs": [],
   "source": [
    "be = dict(zip(befolkning['Grunnkretser'].tolist(), befolkning['value'].tolist()))\n"
   ]
  },
  {
   "cell_type": "code",
   "execution_count": 8,
   "metadata": {},
   "outputs": [],
   "source": [
    "layer = ipyleaflet.Choropleth(\n",
    "    geo_data=geodata,\n",
    "    choro_data=be,\n",
    "    colormap=linear.YlOrRd_04,\n",
    "    style={'fillOpacity': 0.6, 'dashArray': '1, 1'}\n",
    ")"
   ]
  },
  {
   "cell_type": "markdown",
   "metadata": {},
   "source": [
    "Vi velger et senter-punkt + zoom."
   ]
  },
  {
   "cell_type": "code",
   "execution_count": 9,
   "metadata": {},
   "outputs": [],
   "source": [
    "center = [59.905695, 10.737880]\n",
    "zoom = 12"
   ]
  },
  {
   "cell_type": "code",
   "execution_count": 10,
   "metadata": {},
   "outputs": [],
   "source": [
    "m = Map(center=center, zoom=zoom)"
   ]
  },
  {
   "cell_type": "code",
   "execution_count": 11,
   "metadata": {},
   "outputs": [
    {
     "data": {
      "application/vnd.jupyter.widget-view+json": {
       "model_id": "261a79c3fcf8432bbfab01b76132a5be",
       "version_major": 2,
       "version_minor": 0
      },
      "text/plain": [
       "Map(center=[59.905695, 10.73788], controls=(ZoomControl(options=['position', 'zoom_in_text', 'zoom_in_title', …"
      ]
     },
     "metadata": {},
     "output_type": "display_data"
    }
   ],
   "source": [
    "m.add_layer(layer)\n",
    "m"
   ]
  },
  {
   "cell_type": "code",
   "execution_count": 12,
   "metadata": {},
   "outputs": [],
   "source": [
    "from ipywidgets import Text, HTML\n",
    "from ipyleaflet import WidgetControl, GeoJSON \n",
    "\n",
    "html1 = HTML('''\n",
    "    <h3>Oslo befolkningstall 2020</h3>\n",
    "''')\n",
    "html1.layout.margin = '20px 20px 20px 20px'\n",
    "control1 = WidgetControl(widget=html1, position='bottomright')\n",
    "m.add_control(control1)\n",
    "\n",
    "def update_html(feature, **kwargs):\n",
    "    html1.value = '''\n",
    "        <h3>Oslo befolkningstall 2020</h3>\n",
    "        <h4>{0}</h4>\n",
    "        {1:.0f} personer\n",
    "    '''.format(feature['properties']['grunnkretsnavn'], be[feature['properties']['grunnkrets_id']])\n",
    "\n",
    "layer.on_hover(update_html)"
   ]
  },
  {
   "cell_type": "code",
   "execution_count": null,
   "metadata": {},
   "outputs": [],
   "source": []
  }
 ],
 "metadata": {
  "kernelspec": {
   "display_name": "Python 3",
   "language": "python",
   "name": "python3"
  },
  "language_info": {
   "codemirror_mode": {
    "name": "ipython",
    "version": 3
   },
   "file_extension": ".py",
   "mimetype": "text/x-python",
   "name": "python",
   "nbconvert_exporter": "python",
   "pygments_lexer": "ipython3",
   "version": "3.8.6"
  }
 },
 "nbformat": 4,
 "nbformat_minor": 4
}
