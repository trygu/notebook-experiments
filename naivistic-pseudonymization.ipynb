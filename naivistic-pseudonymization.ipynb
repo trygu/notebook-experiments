{
 "cells": [
  {
   "cell_type": "markdown",
   "id": "8a4c2f51-12af-4d21-a6ae-baaf74257e13",
   "metadata": {},
   "source": [
    "# Naivistisk eksempel på psuedonymisering"
   ]
  },
  {
   "cell_type": "code",
   "execution_count": 7,
   "id": "f02aca89-b843-41c4-b5cf-3fca6e62355c",
   "metadata": {},
   "outputs": [],
   "source": [
    "from cryptography.fernet import Fernet"
   ]
  },
  {
   "cell_type": "code",
   "execution_count": 8,
   "id": "2b3061a9-8c0c-42aa-8645-6ab27ae99641",
   "metadata": {},
   "outputs": [],
   "source": [
    "def pseudo(text, key):\n",
    "    \"\"\"\n",
    "    Enkel symetrisk kryptering/pseudonymisering basert på nøkkel. \n",
    "    Tar en tekst inn som skal pseudonymiseres sammen med nøkkel\n",
    "    \"\"\"\n",
    "    fernet = Fernet(key)\n",
    "    ps = fernet.encrypt(text.encode())\n",
    "    return ps"
   ]
  },
  {
   "cell_type": "code",
   "execution_count": 9,
   "id": "246cae65-0942-4d91-ae36-181c97faf64a",
   "metadata": {},
   "outputs": [],
   "source": [
    "def depseudo(pseudo, key):\n",
    "    \"\"\"\n",
    "    Enkel symetrisk dekryptering av pseudonym basert på nøkkel. \n",
    "    Tar en tekst inn som skal de-pseudonymiseres sammen med nøkkel\n",
    "    \"\"\"\n",
    "    fernet = Fernet(key)\n",
    "    dp = fernet.decrypt(pseudo)\n",
    "    return dp"
   ]
  },
  {
   "cell_type": "markdown",
   "id": "eadb54a2-c10f-42c8-bf35-10fb28f97cd5",
   "metadata": {},
   "source": [
    "Bør finne en VELDIG mye bedre måte å lage \"hemmelig nøkkel\" på"
   ]
  },
  {
   "cell_type": "code",
   "execution_count": 10,
   "id": "a4d49aa1-f12a-4556-92b9-4b4dd6c2016e",
   "metadata": {},
   "outputs": [],
   "source": [
    "key = Fernet.generate_key()"
   ]
  },
  {
   "cell_type": "code",
   "execution_count": 11,
   "id": "c6613408-c294-406a-b4ad-a259a2acb7dc",
   "metadata": {},
   "outputs": [
    {
     "name": "stdout",
     "output_type": "stream",
     "text": [
      "FNR      :  01010112345\n",
      "Pseudo   :  gAAAAABiTpj46dnjwGUBz2UV9cvNusOUTXQkflpsaO4KsHnPoWlgYABPvWxQaC39g8JfcM88n0mwQQrMcTEDb3tfk5R1nQKvfQ==\n",
      "De-pseudo:  01010112345\n"
     ]
    }
   ],
   "source": [
    "fnr = \"01010112345\"\n",
    "pseudonym = pseudo(fnr, key)\n",
    "\n",
    "print(\"FNR      : \", fnr)\n",
    "print(\"Pseudo   : \", pseudonym.decode())\n",
    "print(\"De-pseudo: \", depseudo(pseudonym, key).decode())\n"
   ]
  },
  {
   "cell_type": "code",
   "execution_count": null,
   "id": "fc795be6-7cdb-4c7d-8e10-afcf02344b5a",
   "metadata": {},
   "outputs": [],
   "source": []
  },
  {
   "cell_type": "code",
   "execution_count": null,
   "id": "c0535ec8-66a4-4269-8a55-8048c9f5b30c",
   "metadata": {},
   "outputs": [],
   "source": []
  },
  {
   "cell_type": "code",
   "execution_count": null,
   "id": "f7d302bb-f07e-4dae-b490-16cba46f9ce7",
   "metadata": {},
   "outputs": [],
   "source": []
  }
 ],
 "metadata": {
  "kernelspec": {
   "display_name": "Python 3 (ipykernel)",
   "language": "python",
   "name": "python3"
  },
  "language_info": {
   "codemirror_mode": {
    "name": "ipython",
    "version": 3
   },
   "file_extension": ".py",
   "mimetype": "text/x-python",
   "name": "python",
   "nbconvert_exporter": "python",
   "pygments_lexer": "ipython3",
   "version": "3.9.10"
  }
 },
 "nbformat": 4,
 "nbformat_minor": 5
}
